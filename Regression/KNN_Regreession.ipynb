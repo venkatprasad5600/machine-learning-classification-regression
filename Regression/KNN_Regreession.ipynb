{
 "cells": [
  {
   "cell_type": "code",
   "execution_count": null,
   "id": "4df8ee25",
   "metadata": {},
   "outputs": [],
   "source": [
    "import pandas as pd \n",
    "df = pd.read_csv(\"C:/Users/Prasad/Downloads/Air_quality_KNNR.csv\")\n",
    "df"
   ]
  },
  {
   "cell_type": "code",
   "execution_count": null,
   "id": "1ceb82db",
   "metadata": {},
   "outputs": [],
   "source": [
    "# 4) Data cleaning\n",
    "print(\"Initial shape:\", df.shape)\n",
    "print(\"Missing values per column:\\n\", df.isnull().sum())\n"
   ]
  },
  {
   "cell_type": "code",
   "execution_count": null,
   "id": "6eb6ceee",
   "metadata": {},
   "outputs": [],
   "source": [
    "def clip_iqr(series):\n",
    "    q1 = series.quantile(0.25)\n",
    "    q3 = series.quantile(0.75)\n",
    "    iqr = q3 - q1\n",
    "    lower = q1 - 1.5 * iqr\n",
    "    upper = q3 + 1.5 * iqr\n",
    "    return series.clip(lower, upper)\n",
    "\n",
    "for col in ['PM2.5','PM10','NO2','CO','O3','AQI']:\n",
    "    df_imputed[col] = clip_iqr(df_imputed[col])"
   ]
  },
  {
   "cell_type": "code",
   "execution_count": null,
   "id": "40d5583e",
   "metadata": {},
   "outputs": [],
   "source": [
    "# 5) Feature engineering\n",
    "# create aggregated pollutant feature\n",
    "df_imputed['PM_total'] = df_imputed['PM2.5'] + df_imputed['PM10']\n",
    "# you can also add ratios or interactions\n",
    "df_imputed['PM2.5_ratio'] = df_imputed['PM2.5'] / (df_imputed['PM_total'] + 1e-6)"
   ]
  },
  {
   "cell_type": "code",
   "execution_count": null,
   "id": "ea048736",
   "metadata": {},
   "outputs": [],
   "source": [
    "# 6) Feature scaling (KNN requires scaling)\n",
    "feature_cols = ['Temperature','Humidity','WindSpeed','PM2.5','PM10','NO2','CO','O3','PM_total','PM2.5_ratio']\n",
    "X = df_imputed[feature_cols]\n",
    "y = df_imputed['AQI']\n",
    "\n",
    "scaler = StandardScaler()\n",
    "X_scaled = scaler.fit_transform(X)"
   ]
  },
  {
   "cell_type": "code",
   "execution_count": null,
   "id": "03c424bf",
   "metadata": {},
   "outputs": [],
   "source": [
    "# 7) Splitting\n",
    "X_train, X_test, y_train, y_test = train_test_split(X_scaled, y, test_size=0.2, random_state=42)"
   ]
  },
  {
   "cell_type": "code",
   "execution_count": null,
   "id": "ec82ca16",
   "metadata": {},
   "outputs": [],
   "source": [
    "# 9) Model building & evaluation (KNN Regression)\n",
    "knn = KNeighborsRegressor()\n",
    "knn.fit(X_train, y_train)\n",
    "y_pred = knn.predict(X_test)"
   ]
  },
  {
   "cell_type": "code",
   "execution_count": null,
   "id": "a9857883",
   "metadata": {},
   "outputs": [],
   "source": [
    "def report_regression(y_true, y_pred):\n",
    "    mae = mean_absolute_error(y_true, y_pred)\n",
    "    mse = mean_squared_error(y_true, y_pred)\n",
    "    rmse = np.sqrt(mse)\n",
    "    r2 = r2_score(y_true, y_pred)\n",
    "    print(f\"MAE: {mae:.3f}\")\n",
    "    print(f\"MSE: {mse:.3f}\")\n",
    "    print(f\"RMSE: {rmse:.3f}\")\n",
    "    print(f\"R2: {r2:.3f}\")\n",
    "\n",
    "print(\"Baseline KNN (default params) evaluation on test set:\")\n",
    "report_regression(y_test, y_pred)"
   ]
  },
  {
   "cell_type": "code",
   "execution_count": null,
   "id": "5f0349dd",
   "metadata": {},
   "outputs": [],
   "source": [
    "# cross-validated baseline performance\n",
    "cv_scores = cross_val_score(knn, X_scaled, y, cv=5, scoring='r2')\n",
    "print(\"CV R2 (5-fold):\", cv_scores, \"mean:\", cv_scores.mean())\n"
   ]
  },
  {
   "cell_type": "code",
   "execution_count": null,
   "id": "78cf6907",
   "metadata": {},
   "outputs": [],
   "source": [
    "# 10) Hyperparameter tuning\n",
    "param_grid = {\n",
    "    'n_neighbors': [1, 3, 5, 7, 9, 11],\n",
    "    'weights': ['uniform', 'distance'],\n",
    "    'p': [1, 2]  # p=1 Manhattan, p=2 Euclidean\n",
    "}\n",
    "\n",
    "grid = GridSearchCV(KNeighborsRegressor(), param_grid, cv=5, scoring='neg_mean_squared_error', n_jobs=-1)\n",
    "grid.fit(X_train, y_train)\n",
    "\n",
    "print(\"Best params:\", grid.best_params_)\n",
    "print(\"Best CV score (neg MSE):\", grid.best_score_)\n",
    "\n",
    "best_knn = grid.best_estimator_\n",
    "y_pred_best = best_knn.predict(X_test)\n",
    "print(\"Tuned KNN evaluation on test set:\")\n",
    "report_regression(y_test, y_pred_best)\n"
   ]
  },
  {
   "cell_type": "code",
   "execution_count": null,
   "id": "796e9fe8",
   "metadata": {},
   "outputs": [],
   "source": []
  }
 ],
 "metadata": {
  "kernelspec": {
   "display_name": "Python 3",
   "language": "python",
   "name": "python3"
  },
  "language_info": {
   "codemirror_mode": {
    "name": "ipython",
    "version": 3
   },
   "file_extension": ".py",
   "mimetype": "text/x-python",
   "name": "python",
   "nbconvert_exporter": "python",
   "pygments_lexer": "ipython3",
   "version": "3.12.4"
  }
 },
 "nbformat": 4,
 "nbformat_minor": 5
}
