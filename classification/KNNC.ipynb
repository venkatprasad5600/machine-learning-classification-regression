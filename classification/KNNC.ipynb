{
 "cells": [
  {
   "cell_type": "code",
   "execution_count": null,
   "id": "802fe126",
   "metadata": {},
   "outputs": [],
   "source": [
    "import pandas as pd \n",
    "df = pd.read_csv(\"C:/Users/Prasad/Downloads/spotify_recommendation_KNNC.csv\")\n",
    "df"
   ]
  },
  {
   "cell_type": "code",
   "execution_count": null,
   "id": "e1091fc1",
   "metadata": {},
   "outputs": [],
   "source": [
    "# 1. Check for missing values and duplicates\n",
    "print(df.isnull().sum())\n",
    "print(\"Duplicates:\", df.duplicated().sum())"
   ]
  },
  {
   "cell_type": "code",
   "execution_count": null,
   "id": "1acd3f62",
   "metadata": {},
   "outputs": [],
   "source": [
    "# 2. Convert Last_Played to datetime\n",
    "df['Last_Played'] = pd.to_datetime(df['Last_Played'])"
   ]
  },
  {
   "cell_type": "code",
   "execution_count": null,
   "id": "3b1b2105",
   "metadata": {},
   "outputs": [],
   "source": [
    "# 3. Fill missing categorical values if any\n",
    "df['Genre'] = df['Genre'].fillna('Unknown')\n",
    "df['Artist'] = df['Artist'].fillna('Unknown')"
   ]
  },
  {
   "cell_type": "code",
   "execution_count": null,
   "id": "4c759218",
   "metadata": {},
   "outputs": [],
   "source": [
    "# 5. Create target: Liked (example threshold)\n",
    "df['Liked'] = (df['Plays'] >= 15).astype(int)"
   ]
  },
  {
   "cell_type": "code",
   "execution_count": null,
   "id": "96f4a0f8",
   "metadata": {},
   "outputs": [],
   "source": [
    "# 1. Song popularity (global plays) - if you have global counts, else approximate via Plays\n",
    "# For this toy set, make a categorical for 'High_Play' as extra feature\n",
    "df['High_Play'] = (df['Plays'] >= 15).astype(int)\n",
    "\n",
    "# 2. Extract time features from Last_Played\n",
    "df['Last_Played_DayOfWeek'] = df['Last_Played'].dt.dayofweek  # 0=Mon\n",
    "df['Last_Played_Hour'] = df['Last_Played'].dt.hour\n",
    "\n",
    "# 3. Simplify artist info (optional: label encode top artists)\n",
    "# Create a feature: Artist_is_top (example for artists appearing >1)\n",
    "top_artists = df['Artist'].value_counts()\n",
    "df['Artist_is_top'] = df['Artist'].isin(top_artists[top_artists>1].index).astype(int)\n",
    "\n",
    "# 4. Aggregate user-level features (if multiple songs per user)\n",
    "user_agg = df.groupby('User_ID').agg({\n",
    "    'Plays': ['mean','max'],\n",
    "}).reset_index()\n",
    "user_agg.columns = ['User_ID','User_Plays_Mean','User_Plays_Max']\n",
    "df = df.merge(user_agg, on='User_ID', how='left')\n",
    "\n",
    "# 5. One-hot encode Genre (or use label encoding)\n",
    "df = pd.get_dummies(df, columns=['Genre'], drop_first=True)\n"
   ]
  },
  {
   "cell_type": "code",
   "execution_count": null,
   "id": "7a25ba98",
   "metadata": {},
   "outputs": [],
   "source": [
    "from sklearn.preprocessing import StandardScaler\n",
    "\n",
    "num_cols = ['Plays','User_Plays_Mean','User_Plays_Max','Last_Played_DayOfWeek','Last_Played_Hour']\n",
    "scaler = StandardScaler()\n",
    "df[num_cols] = scaler.fit_transform(df[num_cols])\n"
   ]
  },
  {
   "cell_type": "code",
   "execution_count": null,
   "id": "bebddaf6",
   "metadata": {},
   "outputs": [],
   "source": [
    "from sklearn.model_selection import train_test_split\n",
    "\n",
    "X = df.drop(columns=['User_ID','Song_ID','Song_Name','Artist','Last_Played','Recommended_Songs','Liked'])\n",
    "y = df['Liked']\n",
    "\n",
    "X_train, X_test, y_train, y_test = train_test_split(X, y, test_size=0.2, random_state=42, stratify=y)\n"
   ]
  },
  {
   "cell_type": "code",
   "execution_count": null,
   "id": "d49caa15",
   "metadata": {},
   "outputs": [],
   "source": [
    "from sklearn.neighbors import KNeighborsClassifier\n",
    "from sklearn.metrics import accuracy_score, classification_report, confusion_matrix\n",
    "\n",
    "# Baseline model\n",
    "knn = KNeighborsClassifier(n_neighbors=5)  # default\n",
    "knn.fit(X_train, y_train)\n",
    "\n",
    "y_pred = knn.predict(X_test)\n",
    "print(\"Accuracy:\", accuracy_score(y_test, y_pred))\n",
    "print(classification_report(y_test, y_pred))\n",
    "print(\"Confusion Matrix:\\n\", confusion_matrix(y_test, y_pred))\n"
   ]
  },
  {
   "cell_type": "code",
   "execution_count": null,
   "id": "b3313fa0",
   "metadata": {},
   "outputs": [],
   "source": [
    "from sklearn.model_selection import GridSearchCV\n",
    "\n",
    "param_grid = {\n",
    "    'n_neighbors': [1,3,5,7,9],\n",
    "    'weights': ['uniform','distance'],\n",
    "    'p': [1,2]  # 1 = Manhattan, 2 = Euclidean\n",
    "}\n",
    "\n",
    "grid = GridSearchCV(KNeighborsClassifier(), param_grid, cv=5, scoring='f1', n_jobs=-1)\n",
    "grid.fit(X_train, y_train)\n",
    "\n",
    "print(\"Best params:\", grid.best_params_)\n",
    "print(\"Best CV score (F1):\", grid.best_score_)\n",
    "\n",
    "best_knn = grid.best_estimator_\n",
    "y_pred_best = best_knn.predict(X_test)\n",
    "print(\"Test Accuracy:\", accuracy_score(y_test, y_pred_best))\n",
    "print(classification_report(y_test, y_pred_best))\n"
   ]
  },
  {
   "cell_type": "code",
   "execution_count": null,
   "id": "277f3b12",
   "metadata": {},
   "outputs": [],
   "source": []
  },
  {
   "cell_type": "code",
   "execution_count": null,
   "id": "20b2746e",
   "metadata": {},
   "outputs": [],
   "source": []
  },
  {
   "cell_type": "code",
   "execution_count": null,
   "id": "eb3f2475",
   "metadata": {},
   "outputs": [],
   "source": []
  }
 ],
 "metadata": {
  "kernelspec": {
   "display_name": "Python 3",
   "language": "python",
   "name": "python3"
  },
  "language_info": {
   "codemirror_mode": {
    "name": "ipython",
    "version": 3
   },
   "file_extension": ".py",
   "mimetype": "text/x-python",
   "name": "python",
   "nbconvert_exporter": "python",
   "pygments_lexer": "ipython3",
   "version": "3.12.4"
  }
 },
 "nbformat": 4,
 "nbformat_minor": 5
}
